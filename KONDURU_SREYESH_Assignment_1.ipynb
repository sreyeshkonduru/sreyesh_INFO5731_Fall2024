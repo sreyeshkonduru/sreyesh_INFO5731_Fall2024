{
  "cells": [
    {
      "cell_type": "markdown",
      "metadata": {
        "id": "view-in-github",
        "colab_type": "text"
      },
      "source": [
        "<a href=\"https://colab.research.google.com/github/sreyeshkonduru/sreyesh_INFO5731_Fall2024/blob/main/KONDURU_SREYESH_Assignment_1.ipynb\" target=\"_parent\"><img src=\"https://colab.research.google.com/assets/colab-badge.svg\" alt=\"Open In Colab\"/></a>"
      ]
    },
    {
      "cell_type": "markdown",
      "metadata": {
        "id": "Ryk8D1Q4Wsrp"
      },
      "source": [
        "# **INFO5731 Assignment One**"
      ]
    },
    {
      "cell_type": "markdown",
      "source": [
        "This assignment includes range of programming tasks and data analysis exercises, aiming to enhance your Python skills and proficiency in string manipulation, numerical computations, and data science. Follow the instructions carefully and design well-structured Python programs to address each question.\n",
        "\n",
        "Late Submission will have a penalty of 10% reduction for each day after the deadline."
      ],
      "metadata": {
        "id": "qcP6re2g5A5r"
      }
    },
    {
      "cell_type": "markdown",
      "metadata": {
        "id": "JkzR8cFAyGik"
      },
      "source": [
        "# Question 1 (10 points).\n",
        "\n",
        "The formula that describes the volume V of a hemisphere with radius r is the following:\n",
        "\n",
        "$ V=\\frac{2}{3}\\ast\\ \\pi\\ast\\ r^3 $\n",
        "\n",
        "Write a program to calculate the value of V when r is in the range of even numbers from 1-20. Output the result in the following format:\n",
        "\n",
        "\tr\tV\n",
        "\t2\t…\n",
        "\t4\t…\n",
        "\t6\t…\n",
        "\t.\n",
        "\t.\n",
        "\t.\n",
        "\t20\t…\n"
      ]
    },
    {
      "cell_type": "code",
      "execution_count": 73,
      "metadata": {
        "id": "jDyTKYs-yGit",
        "colab": {
          "base_uri": "https://localhost:8080/"
        },
        "outputId": "ecfb29ff-a703-449d-dc8d-d5cb0a832e79"
      },
      "outputs": [
        {
          "output_type": "stream",
          "name": "stdout",
          "text": [
            "2 16.7467\n",
            "4 133.9733\n",
            "6 452.16\n",
            "8 1071.7867\n",
            "10 2093.3333\n",
            "12 3617.28\n",
            "14 5744.1067\n",
            "16 8574.2933\n",
            "18 12208.32\n",
            "20 16746.6667\n"
          ]
        }
      ],
      "source": [
        "# Your code here\n",
        "r = [2,4,6,8,10,12,14,16,18,20]\n",
        "for i in r:\n",
        "  v = (2/3)*3.14*(i**3)\n",
        "  v = round(v, 4)\n",
        "  print(i,v)"
      ]
    },
    {
      "cell_type": "markdown",
      "metadata": {
        "id": "90_NR8c5XGWc"
      },
      "source": [
        "# Question 2 (20 points)\n",
        "\n",
        "(a) Write a Python program to generate a sequence of 12 random numbers falling within the range of 50 to 150.\n",
        "\n",
        "(b) Arrange the generated numbers in ascending order. Display the sorted list.\n",
        "\n",
        "(c) Extend the program to arrange the numbers in descending order as well. Present the sorted list accordingly.\n",
        "\n",
        "(d) Compute and output the average of the entire group of generated numbers.\n",
        "\n",
        "(e) Enhance the program to calculate and display the average of the first 6 numbers from both the ascending and descending sorted lists."
      ]
    },
    {
      "cell_type": "code",
      "execution_count": 74,
      "metadata": {
        "id": "5QX6bJjGWXY9",
        "colab": {
          "base_uri": "https://localhost:8080/"
        },
        "outputId": "3d1f1122-73c5-4675-eace-52808d84c8e2"
      },
      "outputs": [
        {
          "output_type": "stream",
          "name": "stdout",
          "text": [
            "12 random numbers in a list bertween 50 and 150\n",
            " [99, 143, 147, 82, 83, 108, 102, 142, 109, 113, 124, 132]\n",
            "\n",
            "sorted list\n",
            " [82, 83, 99, 102, 108, 109, 113, 124, 132, 142, 143, 147]\n",
            "\n",
            " sorted list in descending order\n",
            " [147, 143, 142, 132, 124, 113, 109, 108, 102, 99, 83, 82]\n",
            "\n",
            " average of the list\n",
            " 115.33333333333333\n",
            "\n",
            " average of both ascending and descending lists\n",
            " 133.5\n"
          ]
        }
      ],
      "source": [
        "# Write code for each of the sub parts with proper comments.\n",
        "\n",
        "#program to generate a sequence of 12 random numbers falling within range of 50 to 150\n",
        "import random\n",
        "list = random.sample(range(50, 150), 12)\n",
        "print('12 random numbers in a list bertween 50 and 150\\n', list)\n",
        "\n",
        "#program to arrange the generated numbers in ascending order\n",
        "list.sort()\n",
        "print('\\nsorted list\\n',list)\n",
        "\n",
        "#program to arrange the numbers in descending order\n",
        "list.sort(reverse=True)\n",
        "print('\\n sorted list in descending order\\n',list)\n",
        "\n",
        "#program to compute and output the average of the entire group of generated numbers\n",
        "print('\\n average of the list\\n',sum(list)/len(list))\n",
        "\n",
        "#program to calculate and display the average of the first 6 numbers from both the ascending and descending sorted lists\n",
        "print('\\n average of both ascending and descending lists\\n',sum(list[0:6])/len(list[0:6]))"
      ]
    },
    {
      "cell_type": "markdown",
      "metadata": {
        "id": "1F_PZdH9Sh49"
      },
      "source": [
        "# Question 3 (20 points).\n",
        "\n",
        "Create a Python program that encompasses various string manipulation task:\n",
        "\n",
        "(a) Prompt the user to input two sentences.\n",
        "\n",
        "(b) Transform each sentence into a list, where each element corresponds to a word in the sentence. For example, if the sentences are \"Hello, how are you doing today?\" and \"This is an example sentence for the program!\"\n",
        "\n",
        "The program should output:\n",
        "['Hello', ',', 'how', 'are', 'you', 'doing', 'today', '?', 'This', 'is', 'an', 'example', 'sentence', 'for', 'the', 'program', '!']\n",
        "\n",
        "(c) Compare the two sentences. Print out a list of words that occur in both sentences.\n",
        "\n",
        "(d) Remove any punctuation from the sentence and print the sanitized sentences. It should remove at least the following characters, but it can remove more: period(“.”), comma (“,”), semicolon (“;”), and colon (“:”).\n",
        "\n",
        "(e) Count the number of vowels in each of the sentences. Print out each vowel and the occurrences  in the each of the two sentences separately, such as:\n",
        "\n",
        "Sentence1: a:2, e:2, i:0, etc.\n",
        "Sentence2: a:1, e:2, i:2, etc.\n",
        "\n",
        "Design a well-structured Python program to execute these tasks efficiently."
      ]
    },
    {
      "cell_type": "code",
      "execution_count": 77,
      "metadata": {
        "id": "Y0oOSlsOS0cq",
        "colab": {
          "base_uri": "https://localhost:8080/"
        },
        "outputId": "791b7648-f037-43e8-8303-b28a871d8edd"
      },
      "outputs": [
        {
          "output_type": "stream",
          "name": "stdout",
          "text": [
            "Enter first sentence: Hello how are you\n",
            "Enter second sentence: where are you?\n",
            "\n",
            " First sentence \n",
            " ['Hello', 'how', 'are', 'you']\n",
            "\n",
            " Second sentence \n",
            " ['where', 'are', 'you?']\n",
            "\n",
            " Words that occur in both sentences are: \n",
            " ['are']\n",
            "\n",
            " First sentence without punctuation \n",
            " Hello how are you\n",
            "\n",
            " second sentence without punctuation \n",
            " where are you\n",
            "\n",
            "Number of vowels in sentence1:  7\n",
            "Number of vowels in sentence2:  6\n"
          ]
        }
      ],
      "source": [
        "# Your code here\n",
        "#prompt the user to input two sentences\n",
        "sentence1 = input(\"Enter first sentence: \")\n",
        "sentence2 = input(\"Enter second sentence: \")\n",
        "\n",
        "#Transform each sentence into a list, where each element corresponds to a word in the sentence\n",
        "list1 = sentence1.split( )\n",
        "list2 = sentence2.split( )\n",
        "print('\\n First sentence \\n',list1)\n",
        "print('\\n Second sentence \\n',list2)\n",
        "\n",
        "#Comparing the two sentences. Print out a list of words that occur in both sentences.\n",
        "list3 = []\n",
        "for i in list1:\n",
        "  if i in list2:\n",
        "    list3.append(i)\n",
        "    if len(list3) == 0:\n",
        "      print(list3)\n",
        "    else:\n",
        "      break\n",
        "print(\"\\n Words that occur in both sentences are: \\n\", list3)\n",
        "\n",
        "#Remove any punctuation from the sentence and print the sanitized sentences.\n",
        "import string\n",
        "sentence1 = sentence1.translate(str.maketrans('', '', string.punctuation))\n",
        "sentence2 = sentence2.translate(str.maketrans('', '', string.punctuation))\n",
        "print('\\n First sentence without punctuation \\n',sentence1)\n",
        "print('\\n second sentence without punctuation \\n',sentence2)\n",
        "\n",
        "\n",
        "#Count the number of vowels in each of the sentences.\n",
        "count = 0\n",
        "count1 = 0\n",
        "for i in sentence1:\n",
        "  if i in \"aeiouAEIOU\":\n",
        "    count = count + 1\n",
        "print(\"\\nNumber of vowels in sentence1: \",count)\n",
        "for i in sentence2:\n",
        "  if i in \"aeiouAEIOU\":\n",
        "    count1 = count1 + 1\n",
        "print(\"Number of vowels in sentence2: \",count1)"
      ]
    },
    {
      "cell_type": "markdown",
      "source": [
        "# Question 4 (20 Points)"
      ],
      "metadata": {
        "id": "OP4-5qxAtInv"
      }
    },
    {
      "cell_type": "markdown",
      "source": [
        "Design and implement a simple command-line calculator program. The program should handle both integers and floating-point numbers.\n",
        "\n",
        "(a) Write program that takes a mathematical expression as input and evaluates it. The program should support addition, subtraction, multiplication, and division.\n",
        "\n",
        "(b) Extend the calculator to handle parentheses in mathematical expressions. Implement the necessary logic to evaluate expressions with nested parentheses.\n",
        "\n",
        "(c) Enhance your calculator to include additional mathematical operations such as exponentiation, square root, and modulus.\n",
        "\n",
        "(d) Implement error handling in the calculator program. Handle cases such as division by zero and invalid input expressions. Provide meaningful error messages.\n",
        "\n",
        "(e) Implement a command to exit the calculator."
      ],
      "metadata": {
        "id": "uzN4_hDptK9U"
      }
    },
    {
      "cell_type": "code",
      "source": [
        "# Your code here\n",
        "# program that takes a mathematical expression as input and evaluates it.\n",
        "expression = input(\"Enter a mathematical expression with values: \")\n",
        "\n",
        "def calculator(expression):\n",
        "  result = eval(expression)\n",
        "  return result\n",
        "print('Result is:', calculator(expression))\n",
        "\n",
        "\n",
        "#Extend the calculator to handle parentheses in mathematical expressions. Implement the necessary logic to evaluate expressions with nested parentheses.\n",
        "expression1 = input(\"Enter a mathematical expression with values including parenthesis: \")\n",
        "def  calculator_with_parentheses(expression1):\n",
        "  result = eval(expression1)\n",
        "  return result\n",
        "print('result is: ',calculator_with_parentheses(expression1))\n",
        "\n",
        "#addition of exponentiation,square root and modulus\n",
        "expression2 = input(\"Enter a mathematical expression with values including additional operations: \")\n",
        "def calculator_with_additional_mathematical_operations(expression2):\n",
        "  expression2 = expression2.replace(\"sqrt(\", \"math.sqrt(\")\n",
        "  expression2 = expression2.replace(\"pow(\", \"math.pow(\")\n",
        "  expression2 = expression2.replace(\"mod(\", \"math.mod(\")\n",
        "  result = eval(expression2)\n",
        "  return result\n",
        "print('result is: ',calculator_with_additional_mathematical_operations(expression2))\n",
        "\n",
        "#implementing error handling\n",
        "expression3 = input(\"Enter a mathematical expression with any error: \")\n",
        "def calculator_with_error_handling(expression3):\n",
        "  try:\n",
        "    expression = expression3.replace(\"sqrt(\", \"math.sqrt(\")\n",
        "    expression = expression3.replace(\"pow(\", \"math.pow(\")\n",
        "    expression = expression3.replace(\"mod(\", \"math.mod(\")\n",
        "    result = eval(expression3)\n",
        "    return result\n",
        "  except ZeroDivisionError:\n",
        "    print(\"Error: Division by zero\")\n",
        "  except SyntaxError:\n",
        "    print(\"Error: Invalid syntax\")\n",
        "  except ValueError:\n",
        "    print(\"Error: Invalid value\")\n",
        "  except NameError:\n",
        "    print(\"Error: Invalid name\")\n",
        "print('result is:',calculator_with_error_handling(expression3))"
      ],
      "metadata": {
        "id": "8nQnVxjJuYtu",
        "colab": {
          "base_uri": "https://localhost:8080/"
        },
        "outputId": "63fd31ac-d92f-4dd2-e8c8-0e74a81fe69d"
      },
      "execution_count": 87,
      "outputs": [
        {
          "output_type": "stream",
          "name": "stdout",
          "text": [
            "Enter a mathematical expression with values: 5+5\n",
            "Result is: 10\n",
            "Enter a mathematical expression with values including parenthesis: (5+5)*5\n",
            "result is:  50\n",
            "Enter a mathematical expression with values including additional operations: 5**5\n",
            "result is:  3125\n",
            "Enter a mathematical expression with any error: 5+\n",
            "Error: Invalid syntax\n",
            "result is: None\n"
          ]
        }
      ]
    },
    {
      "cell_type": "markdown",
      "metadata": {
        "id": "z3tBE7E-Xn5X"
      },
      "source": [
        "# Question 5 (30 points).\n",
        "\n",
        "In the field of Data Science, data is often formatted as a comma-delimited (CSV) file, where each line in a file corresponds to a field's value. Refer to Chapter 9 (p. 106) for more information on comma-delimited files.\n",
        "\n",
        "To answer this question, you will need to download the file [Assignment1_denton_housing.csv](https://raw.githubusercontent.com/unt-iialab/info5731-spring2022/main/assignments/Assignment1_denton_housing.csv) included with this assignment. The file contains statistics about housing in the city of Denton from 2008 to 2014. Write a program to implement the following questions.\n",
        "\n",
        "(a) (5 pts) Calculate the difference in the number of Occupied Housing Units from year to year and print it. The difference must be calculated for the consecutive years such as 2008-2009, 2009-2010 etc. Finally, print the values in the ascending order.\n",
        "\n",
        "(b) (5 pts) For all the years, calculate the percentage of housing units which are vacant an occupied. Print the results in the following format:\n",
        "\n",
        "Year Vacant Housing Units Occupied Housing Units\n",
        "\n",
        "    2008  30%   70%                          \n",
        "\t2009 ----- -----\n",
        "\t2010 ----- -----\n",
        "    2011 ----- -----\n",
        "\t2012 ----- -----\n",
        "    2013 ----- -----\n",
        "\t2014 ----- -----\n",
        "  \n",
        "  \n",
        "\n",
        "(c) (10 pts) Calculate and print the valued and years in which the highest number of housing units were vacant and occupied. Print the results in the following format:  \n",
        "\n",
        "                              Year\tValue\n",
        "\tVacant Housing Units\t  -----   -----\n",
        "\tOccupied Housing Units\t-----   -----\n",
        "\n",
        "(d) (10 pts) Calculate the harmonic mean of the total housing units and print it out. You can find the information about harmonic mean here: https://ncalculators.com/statistics/harmonic-mean-calculator.htm"
      ]
    },
    {
      "cell_type": "code",
      "source": [
        "# Your code here\n",
        "#Calculate the difference in the number of Occupied Housing Units from year to year and print it\n",
        "import numpy as np\n",
        "import pandas as pd\n",
        "from scipy import stats\n",
        "df = pd.read_csv('Assignment1_denton_housing.csv')\n",
        "df1 = df[df['title_field'] == 'Occupied Housing Units'].sort_values(by=['year'])\n",
        "df1['Difference'] = abs(df1['value'].diff())\n",
        "print(df1[['year', 'Difference']],'\\n\\n')\n",
        "\n",
        "#For all the years, calculate the percentage of housing units which are vacant an occupied.\n",
        "df2 = df.pivot_table(index='year', columns='title_field', values='value', aggfunc='sum')\n",
        "df2['Vacant Housing Units'] = (df2['Vacant Housing Units'] / df2['Total Housing Units']) * 100\n",
        "df2['Occupied Housing Units'] = (df2['Occupied Housing Units'] / df2['Total Housing Units']) * 100\n",
        "df2['Vacant Housing Units'] = round(df2['Vacant Housing Units'], 2)\n",
        "df2['Occupied Housing Units'] = round(df2['Occupied Housing Units'], 2)\n",
        "df2['Vacant Housing Units'] = df2['Vacant Housing Units'].astype(str) + '%'\n",
        "df2['Occupied Housing Units'] = df2['Occupied Housing Units'].astype(str) + '%'\n",
        "print(df2[['Vacant Housing Units', 'Occupied Housing Units']], '\\n\\n')\n",
        "\n",
        "#Calculate and print the valued and years in which the highest number of housing units were vacant and occupied.\n",
        "df3 = df.pivot_table(index='year', columns='title_field', values='value', aggfunc='max')\n",
        "df3 = df3.drop(['Median Gross Rent','Owner Occupied','Renter Occupied','Total Housing Units'], axis=1)\n",
        "vacant_max_year = df3['Vacant Housing Units'].idxmax()\n",
        "vacant_max_value = df3['Vacant Housing Units'].max()\n",
        "occupied_max_year = df3['Occupied Housing Units'].idxmax()\n",
        "occupied_max_value = df3['Occupied Housing Units'].max()\n",
        "print(f\"\"\"                          Year   Value\n",
        "Vacant Housing Units      {vacant_max_year}   {vacant_max_value}\n",
        "Occupied Housing Units    {occupied_max_year}   {occupied_max_value}\n",
        "\"\"\")\n",
        "\n",
        " #Calculate the harmonic mean of the total housing units and print it out\n",
        "df4 = df[df['title_field'] == 'Total Housing Units']\n",
        "print('The harmonic mean of total housing units is', stats.hmean(df4['value']))"
      ],
      "metadata": {
        "colab": {
          "base_uri": "https://localhost:8080/"
        },
        "id": "3iapnRK8uLRN",
        "outputId": "b4471ae1-fa28-43c6-eecb-af3277214b0b"
      },
      "execution_count": 88,
      "outputs": [
        {
          "output_type": "stream",
          "name": "stdout",
          "text": [
            "    year  Difference\n",
            "20  2008         NaN\n",
            "17  2009       795.0\n",
            "14  2010      5091.0\n",
            "11  2011       303.0\n",
            "8   2012      1404.0\n",
            "5   2013      1565.0\n",
            "2   2014      2622.0 \n",
            "\n",
            "\n",
            "title_field Vacant Housing Units Occupied Housing Units\n",
            "year                                                   \n",
            "2008                      10.88%                 89.12%\n",
            "2009                       9.07%                 90.93%\n",
            "2010                       8.14%                 91.86%\n",
            "2011                       9.38%                 90.62%\n",
            "2012                       6.68%                 93.32%\n",
            "2013                        8.8%                  91.2%\n",
            "2014                       5.73%                 94.27% \n",
            "\n",
            "\n",
            "                          Year   Value\n",
            "Vacant Housing Units      2008   4483\n",
            "Occupied Housing Units    2014   46295\n",
            "\n",
            "The harmonic mean of total housing units is 44398.28543969185\n"
          ]
        }
      ]
    },
    {
      "cell_type": "markdown",
      "source": [
        "# Mandatory Question\n",
        "\n",
        "Provide your thoughts on the assignment. What did you find challenging, and what aspects did you enjoy? Your opinion on the provided time to complete the assignment. Share any suggestions for improvement. Your feedback will be valuable for enhancing the learning experience."
      ],
      "metadata": {
        "id": "q8BFCvWp32cf"
      }
    },
    {
      "cell_type": "code",
      "source": [
        "# Write your response below\n",
        "The assignment literally tested what i have learned in the first three classes. I found it challenging to complete the fifth question which\n",
        "took a lot of time but eventually got the correct output. I dont have any particular feedback or complaints about this class"
      ],
      "metadata": {
        "id": "_e557s2w4BpK"
      },
      "execution_count": null,
      "outputs": []
    }
  ],
  "metadata": {
    "colab": {
      "provenance": [],
      "include_colab_link": true
    },
    "kernelspec": {
      "display_name": "Python 3 (ipykernel)",
      "language": "python",
      "name": "python3"
    },
    "language_info": {
      "codemirror_mode": {
        "name": "ipython",
        "version": 3
      },
      "file_extension": ".py",
      "mimetype": "text/x-python",
      "name": "python",
      "nbconvert_exporter": "python",
      "pygments_lexer": "ipython3",
      "version": "3.9.12"
    }
  },
  "nbformat": 4,
  "nbformat_minor": 0
}