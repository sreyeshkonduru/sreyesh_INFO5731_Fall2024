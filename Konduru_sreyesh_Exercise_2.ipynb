{
  "cells": [
    {
      "cell_type": "markdown",
      "metadata": {
        "id": "view-in-github",
        "colab_type": "text"
      },
      "source": [
        "<a href=\"https://colab.research.google.com/github/sreyeshkonduru/sreyesh_INFO5731_Fall2024/blob/main/Konduru_sreyesh_Exercise_2.ipynb\" target=\"_parent\"><img src=\"https://colab.research.google.com/assets/colab-badge.svg\" alt=\"Open In Colab\"/></a>"
      ]
    },
    {
      "cell_type": "markdown",
      "metadata": {
        "id": "DymRJbxDBCnf"
      },
      "source": [
        "# **INFO5731 In-class Exercise 2**\n",
        "\n",
        "The purpose of this exercise is to understand users' information needs, and then collect data from different sources for analysis by implementing web scraping using Python.\n",
        "\n",
        "**Expectations**:\n",
        "*   Students are expected to complete the exercise during lecture period to meet the active participation criteria of the course.\n",
        "*   Use the provided .*ipynb* document to write your code & respond to the questions. Avoid generating a new file.\n",
        "*   Write complete answers and run all the cells before submission.\n",
        "*   Make sure the submission is \"clean\"; *i.e.*, no unnecessary code cells.\n",
        "*   Once finished, allow shared rights from top right corner (*see Canvas for details*).\n",
        "\n",
        "**Total points**: 40\n",
        "\n",
        "**Deadline**: This in-class exercise is due at the end of the day tomorrow, at 11:59 PM.\n",
        "\n",
        "**Late submissions will have a penalty of 10% of the marks for each day of late submission. , and no requests will be answered. Manage your time accordingly.**\n"
      ]
    },
    {
      "cell_type": "markdown",
      "source": [
        "## Question 1 (10 Points)\n",
        "Describe an interesting research question (or practical question or something innovative) you have in mind, what kind of data should be collected to answer the question(s)? Specify the amount of data needed for analysis. Provide detailed steps for collecting and saving the data."
      ],
      "metadata": {
        "id": "FBKvD6O_TY6e"
      }
    },
    {
      "cell_type": "markdown",
      "source": [],
      "metadata": {
        "id": "5oNeL5pqsn0H"
      }
    },
    {
      "cell_type": "code",
      "source": [
        "# write your answer here\n",
        "'''\n",
        "Research Question:\n",
        "How does the preferred learning method influence student performance across different subjects in an online learning environment?\n",
        "Identify which learning methods are most effective for different subjects and Provide recommendations for optimizing\n",
        "course design based on learning preferences.\n",
        "\n",
        "For data collection, I will be collecting reviews of students from various online learning platforms.Each platform\n",
        "gives different types of feedbacks on the learning methods they implement in their platforms.Using webscraping tools I will\n",
        "collect the data from those platforms and then gather them so that we can make an analysis on that data.After gathering\n",
        "sufficient amount of data(1000 samples) I will sort them according to the learning techniques and accumulate them into a Dataframe.\n",
        "\n",
        "Data to be collected:\n",
        "Student ID\n",
        "Preferred learning method ( Videos, Quizzes, Articles, Interactive Sessions).\n",
        "Subject (Math, Science, History, English, Art)\n",
        "Grade (A, B, C, D)\n",
        "\n",
        "Amount of data needed for analysis:\n",
        "Each student gets 5 subjects from which we can take feedback. we need atleast 1000 samples of data. So we neet to collect\n",
        "data from atleast 200 students.\n",
        "\n",
        "\n",
        "Steps to collect and save data:\n",
        "-Identify the source platforms for students samples data\n",
        "-Extract the samples using webscraping methods in python like BeautifulSoup.\n",
        "-Sort the data for clear understaning and organized data\n",
        "-Append each parameters of data into one DataFrame\n",
        "-Sve the data into a CSV file.\n",
        "\n",
        "'''\n"
      ],
      "metadata": {
        "id": "YjgWtjVj9dW2"
      },
      "execution_count": null,
      "outputs": []
    },
    {
      "cell_type": "markdown",
      "source": [
        "## Question 2 (10 Points)\n",
        "Write Python code to collect a dataset of 1000 samples related to the question discussed in Question 1."
      ],
      "metadata": {
        "id": "E9RqrlwdTfvl"
      }
    },
    {
      "cell_type": "code",
      "source": [
        "import random\n",
        "import pandas as pd\n",
        "\n",
        "def generate_student_data(num_students):\n",
        "    subjects = [\"Math\", \"Science\", \"History\", \"English\", \"Art\"]\n",
        "    grades = [\"A\", \"B\", \"C\", \"D\"]\n",
        "    learning_methods = [\"Videos\", \"Quizzes\", \"Articles\", \"Interactive Sessions\"]\n",
        "\n",
        "    students = []\n",
        "\n",
        "    for i in range(1, num_students + 1):\n",
        "        # Generate sequential student ID\n",
        "        student_id = f\"S{i:04d}\"\n",
        "        preferred_method = random.choice(learning_methods)\n",
        "\n",
        "        # Randomly assign grades for each subject\n",
        "        student_grades = {subject: random.choice(grades) for subject in subjects}\n",
        "\n",
        "        for subject, grade in student_grades.items():\n",
        "            # Appending student data\n",
        "            students.append({\n",
        "                \"Student ID\": student_id,\n",
        "                \"Subject\": subject,\n",
        "                \"Grade\": grade,\n",
        "                \"Preferred Learning Method\": preferred_method\n",
        "            })\n",
        "\n",
        "    return students\n",
        "\n",
        "num_students = 1000\n",
        "data = generate_student_data(num_students)\n",
        "\n",
        "# Saving the data\n",
        "df = pd.DataFrame(data)\n",
        "df.to_csv('student_performance_data.csv', index=False)\n",
        "\n",
        "print(df.head(15))\n"
      ],
      "metadata": {
        "colab": {
          "base_uri": "https://localhost:8080/"
        },
        "id": "knK1prLQXAN_",
        "outputId": "6ba5be1b-9d25-4751-cac2-9c4c81d77fc5"
      },
      "execution_count": 1,
      "outputs": [
        {
          "output_type": "stream",
          "name": "stdout",
          "text": [
            "   Student ID  Subject Grade Preferred Learning Method\n",
            "0       S0001     Math     D      Interactive Sessions\n",
            "1       S0001  Science     C      Interactive Sessions\n",
            "2       S0001  History     C      Interactive Sessions\n",
            "3       S0001  English     C      Interactive Sessions\n",
            "4       S0001      Art     C      Interactive Sessions\n",
            "5       S0002     Math     B                   Quizzes\n",
            "6       S0002  Science     A                   Quizzes\n",
            "7       S0002  History     A                   Quizzes\n",
            "8       S0002  English     D                   Quizzes\n",
            "9       S0002      Art     D                   Quizzes\n",
            "10      S0003     Math     A                    Videos\n",
            "11      S0003  Science     B                    Videos\n",
            "12      S0003  History     D                    Videos\n",
            "13      S0003  English     D                    Videos\n",
            "14      S0003      Art     B                    Videos\n"
          ]
        }
      ]
    },
    {
      "cell_type": "markdown",
      "metadata": {
        "id": "03jb4GZsBkBS"
      },
      "source": [
        "## Question 3 (10 Points)\n",
        "Write Python code to collect 1000 articles from Google Scholar (https://scholar.google.com/), Microsoft Academic (https://academic.microsoft.com/home), or CiteSeerX (https://citeseerx.ist.psu.edu/index), or Semantic Scholar (https://www.semanticscholar.org/), or ACM Digital Libraries (https://dl.acm.org/) with the keyword \"XYZ\". The articles should be published in the last 10 years (2014-2024).\n",
        "\n",
        "The following information from the article needs to be collected:\n",
        "\n",
        "(1) Title of the article\n",
        "\n",
        "(2) Venue/journal/conference being published\n",
        "\n",
        "(3) Year\n",
        "\n",
        "(4) Authors\n",
        "\n",
        "(5) Abstract"
      ]
    },
    {
      "cell_type": "code",
      "source": [
        "import requests\n",
        "from bs4 import BeautifulSoup\n",
        "import pandas as pd\n",
        "\n",
        "def fetch_articles(search_term, num_results):\n",
        "    scholar_url = \"https://scholar.google.com/scholar?hl=en&as_sdt=0%2C44&q=XYZ&btnG=\"\n",
        "    search_params = {\n",
        "        'hl': 'en',\n",
        "        'q': search_term,\n",
        "        'as_ylo': '2014',\n",
        "        'as_yhi': '2024'\n",
        "    }\n",
        "\n",
        "    webpage = requests.get(scholar_url, params=search_params)\n",
        "    parsed_page = BeautifulSoup(webpage.content, 'html.parser')\n",
        "\n",
        "    research_papers = []\n",
        "\n",
        "    for paper in parsed_page.find_all('div', class_='gs_ri')[:num_results]:\n",
        "        paper_title_tag = paper.find('h3', class_='gs_rt')\n",
        "        paper_authors_tag = paper.find('div', class_='gs_a')\n",
        "        paper_abstract_tag = paper.find('div', class_='gs_rs')\n",
        "\n",
        "        paper_title = paper_title_tag.text if paper_title_tag else \"N/A\"\n",
        "        journal_name = paper_authors_tag.text.split('-')[1].strip() if paper_authors_tag and len(paper_authors_tag.text.split('-')) > 1 else \"N/A\"\n",
        "        publication_year = paper_authors_tag.text.split()[-1] if paper_authors_tag else \"N/A\"\n",
        "        author_names = ', '.join(paper_authors_tag.text.split('-')[0].split(', ')) if paper_authors_tag else \"N/A\"\n",
        "        paper_abstract = paper_abstract_tag.text if paper_abstract_tag else \"N/A\"\n",
        "\n",
        "        research_papers.append({\n",
        "            'Title': paper_title,\n",
        "            'Journal': journal_name,\n",
        "            'Year': publication_year,\n",
        "            'Authors': author_names,\n",
        "            'Abstract': paper_abstract\n",
        "        })\n",
        "\n",
        "    return research_papers\n",
        "\n",
        "search_query = \"natural language processing\"\n",
        "fetched_articles = fetch_articles(search_query, 1000)\n",
        "\n",
        "articles_df = pd.DataFrame(fetched_articles)\n",
        "articles_df.to_csv('research_articles.csv', index=False)\n",
        "\n",
        "print(articles_df.head(15))\n"
      ],
      "metadata": {
        "id": "-8VB8X6L-T9p",
        "colab": {
          "base_uri": "https://localhost:8080/"
        },
        "outputId": "bb112717-62de-4f62-e121-9e5c973a46c0"
      },
      "execution_count": null,
      "outputs": [
        {
          "output_type": "stream",
          "name": "stdout",
          "text": [
            "                                               Title  \\\n",
            "0                        Natural language processing   \n",
            "1  [HTML][HTML] Natural language processing: stat...   \n",
            "2            Advances in natural language processing   \n",
            "3  A primer on neural network models for natural ...   \n",
            "4  [PDF][PDF] The Stanford CoreNLP natural langua...   \n",
            "5  Transformers: State-of-the-art natural languag...   \n",
            "6  [BOOK][B] Neural network methods in natural la...   \n",
            "7  Allennlp: A deep semantic natural language pro...   \n",
            "8  Stanza: A Python natural language processing t...   \n",
            "9  Jumping NLP curves: A review of natural langua...   \n",
            "\n",
            "                                             Journal                 Year  \\\n",
            "0      Fundamentals of artificial intelligence, 2020             Springer   \n",
            "1            Multimedia tools and applications, 2023             Springer   \n",
            "2                                      Science, 2015          science.org   \n",
            "3  Journal of Artificial Intelligence Research, 2016             jair.org   \n",
            "4                        Proceedings of 52nd …, 2014     aclanthology.org   \n",
            "5                      … language processing …, 2020     aclanthology.org   \n",
            "6                                               2017     books.google.com   \n",
            "7                       arXiv preprint arXiv …, 2018            arxiv.org   \n",
            "8                       arXiv preprint arXiv …, 2020            arxiv.org   \n",
            "9            IEEE Computational intelligence …, 2014  ieeexplore.ieee.org   \n",
            "\n",
            "                                     Authors  \\\n",
            "0                KR Chowdhary, KR Chowdhary    \n",
            "1     D Khurana, A Koli, K Khatter, S Singh    \n",
            "2                  J Hirschberg, CD Manning    \n",
            "3                                Y Goldberg    \n",
            "4          CD Manning, M Surdeanu, J Bauer…    \n",
            "5      T Wolf, L Debut, V Sanh, J Chaumond…    \n",
            "6                                Y Goldberg    \n",
            "7  M Gardner, J Grus, M Neumann, O Tafjord…    \n",
            "8         P Qi, Y Zhang, Y Zhang, J Bolton…    \n",
            "9                        E Cambria, B White    \n",
            "\n",
            "                                            Abstract  \n",
            "0  … Python is also available with an extensive s...  \n",
            "1  … in machine specific language, Natural Langua...  \n",
            "2  … Natural language processing employs computat...  \n",
            "3  … More recently, neural network models started...  \n",
            "4  We describe the design and use of the Stanford...  \n",
            "5  … Recent progress in natural language processi...  \n",
            "6  … The series consists of 50- to 150-page monog...  \n",
            "7  This paper describes AllenNLP, a platform for ...  \n",
            "8  … open-source Python natural language processi...  \n",
            "9  … a deep understanding of natural language by ...  \n"
          ]
        }
      ]
    },
    {
      "cell_type": "markdown",
      "metadata": {
        "id": "jJDe71iLB616"
      },
      "source": [
        "## Question 4A (10 Points)\n",
        "Develop Python code to collect data from social media platforms like Reddit, Instagram, Twitter (formerly known as X), Facebook, or any other. Use hashtags, keywords, usernames, or user IDs to gather the data.\n",
        "\n",
        "\n",
        "\n",
        "Ensure that the collected data has more than four columns.\n"
      ]
    },
    {
      "cell_type": "markdown",
      "metadata": {
        "id": "55W9AMdXCSpV"
      },
      "source": [
        "## Question 4B (10 Points)\n",
        "If you encounter challenges with Question-4 web scraping using Python, employ any online tools such as ParseHub or Octoparse for data extraction. Introduce the selected tool, outline the steps for web scraping, and showcase the final output in formats like CSV or Excel.\n",
        "\n",
        "\n",
        "\n",
        "Upload a document (Word or PDF File) in any shared storage (preferably UNT OneDrive) and add the publicly accessible link in the below code cell.\n",
        "\n",
        "Please only choose one option for question 4. If you do both options, we will grade only the first one"
      ]
    },
    {
      "cell_type": "code",
      "source": [
        "# write your answer here\n",
        "I have used ParseHub for this question and used reddit deals page to extract data\n",
        "\n",
        "steps for webscrapping through parseHub:\n",
        "\n",
        "1.First download the parseHub app from their website and complete the setup to install Parsehub in computer.\n",
        "\n",
        "2.Then, open ParseHub and click on \"New Project\".\n",
        "\n",
        "3.Paste the URL of the website you want to scrape. In this case, it is https://old.reddit.com/r/deals/\n",
        "\n",
        "4.Then, using select feature, click on the element that we want to extract.\n",
        "\n",
        "5.To extract more elements use relative select and select the elements.\n",
        "\n",
        "6.After selecting, extract data and then select run to get the data.\n",
        "\n",
        "7.Then select the type of file to download such as CSV file.\n",
        "\n",
        "Here is the File:\n",
        "https://myunt-my.sharepoint.com/:b:/g/personal/sreyeshvarmakonduru_my_unt_edu/EeAIcn7eFHpCgJauAO0bpBgBzHknEBaG-T2eO_wqGR-d8w?e=mOI7i3"
      ],
      "metadata": {
        "id": "BiDGvgEWFGvJ"
      },
      "execution_count": null,
      "outputs": []
    },
    {
      "cell_type": "markdown",
      "source": [
        "# Mandatory Question"
      ],
      "metadata": {
        "id": "sZOhks1dXWEe"
      }
    },
    {
      "cell_type": "markdown",
      "source": [
        "**Important: Reflective Feedback on Web Scraping and Data Collection**\n",
        "\n",
        "\n",
        "\n",
        "Please share your thoughts and feedback on the web scraping and data collection exercises you have completed in this assignment. Consider the following points in your response:\n",
        "\n",
        "\n",
        "\n",
        "Learning Experience: Describe your overall learning experience in working on web scraping tasks. What were the key concepts or techniques you found most beneficial in understanding the process of extracting data from various online sources?\n",
        "\n",
        "\n",
        "\n",
        "Challenges Encountered: Were there specific difficulties in collecting data from certain websites, and how did you overcome them? If you opted for the non-coding option, share your experience with the chosen tool.\n",
        "\n",
        "\n",
        "\n",
        "Relevance to Your Field of Study: How might the ability to gather and analyze data from online sources enhance your work or research?\n",
        "\n",
        "**(no grading of your submission if this question is left unanswered)**"
      ],
      "metadata": {
        "id": "eqmHVEwaWhbV"
      }
    },
    {
      "cell_type": "code",
      "source": [
        "'''\n",
        "I have listened to week 4 class about webscrapping. But the call activity that is given to us does not seem to be possible. I was getting so many errors and most of the websites\n",
        "are not giving access to scrape the data.After so many tries using different kinds of websites(even after trying old versions of websites),I finally got the outputs.\n",
        "'''"
      ],
      "metadata": {
        "id": "akAVJn9YBTQT"
      },
      "execution_count": null,
      "outputs": []
    }
  ],
  "metadata": {
    "colab": {
      "provenance": [],
      "toc_visible": true,
      "include_colab_link": true
    },
    "kernelspec": {
      "display_name": "Python 3 (ipykernel)",
      "language": "python",
      "name": "python3"
    },
    "language_info": {
      "codemirror_mode": {
        "name": "ipython",
        "version": 3
      },
      "file_extension": ".py",
      "mimetype": "text/x-python",
      "name": "python",
      "nbconvert_exporter": "python",
      "pygments_lexer": "ipython3",
      "version": "3.9.12"
    }
  },
  "nbformat": 4,
  "nbformat_minor": 0
}