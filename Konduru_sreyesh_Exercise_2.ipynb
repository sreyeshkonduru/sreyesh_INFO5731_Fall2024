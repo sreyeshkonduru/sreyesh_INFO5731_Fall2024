{
  "cells": [
    {
      "cell_type": "markdown",
      "metadata": {
        "id": "view-in-github",
        "colab_type": "text"
      },
      "source": [
        "<a href=\"https://colab.research.google.com/github/sreyeshkonduru/sreyesh_INFO5731_Fall2024/blob/main/Konduru_sreyesh_Exercise_2.ipynb\" target=\"_parent\"><img src=\"https://colab.research.google.com/assets/colab-badge.svg\" alt=\"Open In Colab\"/></a>"
      ]
    },
    {
      "cell_type": "markdown",
      "metadata": {
        "id": "DymRJbxDBCnf"
      },
      "source": [
        "# **INFO5731 In-class Exercise 2**\n",
        "\n",
        "The purpose of this exercise is to understand users' information needs, and then collect data from different sources for analysis by implementing web scraping using Python.\n",
        "\n",
        "**Expectations**:\n",
        "*   Students are expected to complete the exercise during lecture period to meet the active participation criteria of the course.\n",
        "*   Use the provided .*ipynb* document to write your code & respond to the questions. Avoid generating a new file.\n",
        "*   Write complete answers and run all the cells before submission.\n",
        "*   Make sure the submission is \"clean\"; *i.e.*, no unnecessary code cells.\n",
        "*   Once finished, allow shared rights from top right corner (*see Canvas for details*).\n",
        "\n",
        "**Total points**: 40\n",
        "\n",
        "**Deadline**: This in-class exercise is due at the end of the day tomorrow, at 11:59 PM.\n",
        "\n",
        "**Late submissions will have a penalty of 10% of the marks for each day of late submission. , and no requests will be answered. Manage your time accordingly.**\n"
      ]
    },
    {
      "cell_type": "markdown",
      "source": [
        "## Question 1 (10 Points)\n",
        "Describe an interesting research question (or practical question or something innovative) you have in mind, what kind of data should be collected to answer the question(s)? Specify the amount of data needed for analysis. Provide detailed steps for collecting and saving the data."
      ],
      "metadata": {
        "id": "FBKvD6O_TY6e"
      }
    },
    {
      "cell_type": "markdown",
      "source": [],
      "metadata": {
        "id": "5oNeL5pqsn0H"
      }
    },
    {
      "cell_type": "code",
      "source": [
        "My research question is about creating an analiysis by using the data of the students of their type of learning processes. This includes different types of learning ways like Video,quiz and even articles.\n",
        "\n",
        "Data for this research should include parameter such as Student ID,Types of learning process,assessment scores,feedback etc.feedback\n",
        "\n",
        "To get valuable information, there should be atleast 1000 samples of data for this question."
      ],
      "metadata": {
        "id": "QL5GcMieJONV"
      },
      "execution_count": null,
      "outputs": []
    },
    {
      "cell_type": "markdown",
      "source": [
        "## Question 2 (10 Points)\n",
        "Write Python code to collect a dataset of 1000 samples related to the question discussed in Question 1."
      ],
      "metadata": {
        "id": "E9RqrlwdTfvl"
      }
    },
    {
      "cell_type": "code",
      "source": [
        "import pandas as pd\n",
        "import random\n",
        "import uuid\n",
        "from datetime import datetime, timedelta\n",
        "\n",
        "num_students = 100\n",
        "num_interactions_per_student = 10\n",
        "\n",
        "content_types = ['video', 'quiz', 'article']\n",
        "feedback_options = ['very useful', 'useful', 'neutral', 'not useful']\n",
        "\n",
        "student_ids = []\n",
        "timestamps = []\n",
        "content_types_list = []\n",
        "assessment_scores = []\n",
        "engagement_hours = []\n",
        "content_adaptations = []\n",
        "feedback_responses = []\n",
        "\n",
        "def simulate_real_time_data(student_id):\n",
        "    content_type = random.choice(content_types)\n",
        "    score = random.uniform(50, 100)\n",
        "    engagement = random.uniform(0.5, 2)\n",
        "    adaptation = random.choice(['increased difficulty', 'simplified', 'no change'])\n",
        "    feedback = random.choice(feedback_options)\n",
        "    return content_type, score, engagement, adaptation, feedback\n",
        "\n",
        "for student in range(num_students):\n",
        "    student_id = str(uuid.uuid4())\n",
        "    for _ in range(num_interactions_per_student):\n",
        "        timestamp = (datetime.now() - timedelta(minutes=random.randint(1, 10080))).strftime('%Y-%m-%d %H:%M:%S')\n",
        "        content_type, score, engagement, adaptation, feedback = simulate_real_time_data(student_id)\n",
        "\n",
        "        student_ids.append(student_id)\n",
        "        timestamps.append(timestamp)\n",
        "        content_types_list.append(content_type)\n",
        "        assessment_scores.append(score)\n",
        "        engagement_hours.append(engagement)\n",
        "        content_adaptations.append(adaptation)\n",
        "        feedback_responses.append(feedback)\n",
        "\n",
        "data = pd.DataFrame({'Student_ID': student_ids,'Timestamp': timestamps,'Content_Type': content_types_list,'Assessment_Score': assessment_scores,'Engagement_Hours': engagement_hours,'Content_Adaptation': content_adaptations,'Feedback_Response': feedback_responses})\n",
        "\n",
        "data.to_csv('adaptive_learning_data_1000_samples.csv', index=False)\n",
        "print(data.head(10))\n"
      ],
      "metadata": {
        "colab": {
          "base_uri": "https://localhost:8080/"
        },
        "id": "knK1prLQXAN_",
        "outputId": "9ea5207f-9141-473b-f64c-c143ddb35090"
      },
      "execution_count": null,
      "outputs": [
        {
          "output_type": "stream",
          "name": "stdout",
          "text": [
            "                             Student_ID            Timestamp Content_Type  \\\n",
            "0  2af28e40-9d60-404e-bb3b-a4d37f8ec0e9  2024-09-14 22:28:24         quiz   \n",
            "1  2af28e40-9d60-404e-bb3b-a4d37f8ec0e9  2024-09-13 22:38:24        video   \n",
            "2  2af28e40-9d60-404e-bb3b-a4d37f8ec0e9  2024-09-13 06:25:24        video   \n",
            "3  2af28e40-9d60-404e-bb3b-a4d37f8ec0e9  2024-09-14 20:57:24        video   \n",
            "4  2af28e40-9d60-404e-bb3b-a4d37f8ec0e9  2024-09-09 16:54:24      article   \n",
            "5  2af28e40-9d60-404e-bb3b-a4d37f8ec0e9  2024-09-10 15:30:24        video   \n",
            "6  2af28e40-9d60-404e-bb3b-a4d37f8ec0e9  2024-09-15 17:48:24        video   \n",
            "7  2af28e40-9d60-404e-bb3b-a4d37f8ec0e9  2024-09-15 13:17:24         quiz   \n",
            "8  2af28e40-9d60-404e-bb3b-a4d37f8ec0e9  2024-09-13 04:45:24        video   \n",
            "9  2af28e40-9d60-404e-bb3b-a4d37f8ec0e9  2024-09-11 11:53:24         quiz   \n",
            "\n",
            "   Assessment_Score  Engagement_Hours    Content_Adaptation Feedback_Response  \n",
            "0         66.952597          1.265220            simplified            useful  \n",
            "1         58.302556          0.960653            simplified       very useful  \n",
            "2         93.842389          1.200561            simplified        not useful  \n",
            "3         85.806680          1.315959             no change            useful  \n",
            "4         82.722475          1.230178            simplified            useful  \n",
            "5         98.450112          1.074784            simplified       very useful  \n",
            "6         90.824174          1.277781             no change            useful  \n",
            "7         66.551905          1.430387            simplified        not useful  \n",
            "8         62.111781          1.935582  increased difficulty        not useful  \n",
            "9         51.626662          0.895270            simplified            useful  \n"
          ]
        }
      ]
    },
    {
      "cell_type": "markdown",
      "metadata": {
        "id": "03jb4GZsBkBS"
      },
      "source": [
        "## Question 3 (10 Points)\n",
        "Write Python code to collect 1000 articles from Google Scholar (https://scholar.google.com/), Microsoft Academic (https://academic.microsoft.com/home), or CiteSeerX (https://citeseerx.ist.psu.edu/index), or Semantic Scholar (https://www.semanticscholar.org/), or ACM Digital Libraries (https://dl.acm.org/) with the keyword \"XYZ\". The articles should be published in the last 10 years (2014-2024).\n",
        "\n",
        "The following information from the article needs to be collected:\n",
        "\n",
        "(1) Title of the article\n",
        "\n",
        "(2) Venue/journal/conference being published\n",
        "\n",
        "(3) Year\n",
        "\n",
        "(4) Authors\n",
        "\n",
        "(5) Abstract"
      ]
    },
    {
      "cell_type": "code",
      "source": [
        "import requests\n",
        "from bs4 import BeautifulSoup\n",
        "import pandas as pd\n",
        "\n",
        "def xyz(query, num_articles):\n",
        "    base_url = \"https://scholar.google.com/scholar?hl=en&as_sdt=0%2C44&q=XYZ&btnG=\"\n",
        "    params = {\n",
        "        'hl': 'en',\n",
        "        'q': query,\n",
        "        'as_ylo': '2014',  # From year 2014\n",
        "        'as_yhi': '2024'   # To year 2024\n",
        "    }\n",
        "\n",
        "    response = requests.get(base_url, params=params)\n",
        "    soup = BeautifulSoup(response.content, 'html.parser')\n",
        "\n",
        "    articles = []\n",
        "\n",
        "    for entry in soup.find_all('div', class_='gs_ri')[:num_articles]:\n",
        "        title_tag = entry.find('h3', class_='gs_rt')\n",
        "        authors_tag = entry.find('div', class_='gs_a')\n",
        "        abstract_tag = entry.find('div', class_='gs_rs')\n",
        "\n",
        "        title = title_tag.text if title_tag else \"N/A\"\n",
        "        venue = authors_tag.text.split('-')[1].strip() if authors_tag and len(authors_tag.text.split('-')) > 1 else \"N/A\"\n",
        "        year = authors_tag.text.split()[-1] if authors_tag else \"N/A\"\n",
        "        authors = ', '.join(authors_tag.text.split('-')[0].split(', ')) if authors_tag else \"N/A\"\n",
        "        abstract = abstract_tag.text if abstract_tag else \"N/A\"\n",
        "\n",
        "        articles.append({'Title': title, 'Venue': venue, 'Year': year, 'Authors': authors, 'Abstract': abstract})\n",
        "\n",
        "    return articles\n",
        "\n",
        "query = \"natural language processing\"\n",
        "articles = xyz(query, 1000)\n",
        "\n",
        "\n",
        "df = pd.DataFrame(articles)\n",
        "df.to_csv('google_scholar_articles.csv', index=False)\n",
        "print(df.head(15))"
      ],
      "metadata": {
        "colab": {
          "base_uri": "https://localhost:8080/"
        },
        "id": "T40ij4BjvQM4",
        "outputId": "c42d32a5-4086-47af-e7f4-27d3eea01478"
      },
      "execution_count": 1,
      "outputs": [
        {
          "output_type": "stream",
          "name": "stdout",
          "text": [
            "Empty DataFrame\n",
            "Columns: []\n",
            "Index: []\n"
          ]
        }
      ]
    },
    {
      "cell_type": "markdown",
      "metadata": {
        "id": "jJDe71iLB616"
      },
      "source": [
        "## Question 4A (10 Points)\n",
        "Develop Python code to collect data from social media platforms like Reddit, Instagram, Twitter (formerly known as X), Facebook, or any other. Use hashtags, keywords, usernames, or user IDs to gather the data.\n",
        "\n",
        "\n",
        "\n",
        "Ensure that the collected data has more than four columns.\n"
      ]
    },
    {
      "cell_type": "markdown",
      "metadata": {
        "id": "55W9AMdXCSpV"
      },
      "source": [
        "## Question 4B (10 Points)\n",
        "If you encounter challenges with Question-4 web scraping using Python, employ any online tools such as ParseHub or Octoparse for data extraction. Introduce the selected tool, outline the steps for web scraping, and showcase the final output in formats like CSV or Excel.\n",
        "\n",
        "\n",
        "\n",
        "Upload a document (Word or PDF File) in any shared storage (preferably UNT OneDrive) and add the publicly accessible link in the below code cell.\n",
        "\n",
        "Please only choose one option for question 4. If you do both options, we will grade only the first one"
      ]
    },
    {
      "cell_type": "code",
      "execution_count": null,
      "metadata": {
        "id": "I57NXsauCec2"
      },
      "outputs": [],
      "source": [
        "# write your answer here\n"
      ]
    },
    {
      "cell_type": "markdown",
      "source": [
        "# Mandatory Question"
      ],
      "metadata": {
        "id": "sZOhks1dXWEe"
      }
    },
    {
      "cell_type": "markdown",
      "source": [
        "**Important: Reflective Feedback on Web Scraping and Data Collection**\n",
        "\n",
        "\n",
        "\n",
        "Please share your thoughts and feedback on the web scraping and data collection exercises you have completed in this assignment. Consider the following points in your response:\n",
        "\n",
        "\n",
        "\n",
        "Learning Experience: Describe your overall learning experience in working on web scraping tasks. What were the key concepts or techniques you found most beneficial in understanding the process of extracting data from various online sources?\n",
        "\n",
        "\n",
        "\n",
        "Challenges Encountered: Were there specific difficulties in collecting data from certain websites, and how did you overcome them? If you opted for the non-coding option, share your experience with the chosen tool.\n",
        "\n",
        "\n",
        "\n",
        "Relevance to Your Field of Study: How might the ability to gather and analyze data from online sources enhance your work or research?\n",
        "\n",
        "**(no grading of your submission if this question is left unanswered)**"
      ],
      "metadata": {
        "id": "eqmHVEwaWhbV"
      }
    },
    {
      "cell_type": "code",
      "source": [
        "'''\n",
        "I have listened to week 4 class about webscrapping. But the call activity that is given to us does not seem to be possible. I was getting so many errors and most of the websites\n",
        "are not giving access to scrape the data.I have even tried parsehub for the 4B question, but it always gives me empty dataset.I need help in this web scraping topics.\n",
        "'''"
      ],
      "metadata": {
        "id": "akAVJn9YBTQT"
      },
      "execution_count": null,
      "outputs": []
    }
  ],
  "metadata": {
    "colab": {
      "provenance": [],
      "collapsed_sections": [
        "55W9AMdXCSpV"
      ],
      "include_colab_link": true
    },
    "kernelspec": {
      "display_name": "Python 3 (ipykernel)",
      "language": "python",
      "name": "python3"
    },
    "language_info": {
      "codemirror_mode": {
        "name": "ipython",
        "version": 3
      },
      "file_extension": ".py",
      "mimetype": "text/x-python",
      "name": "python",
      "nbconvert_exporter": "python",
      "pygments_lexer": "ipython3",
      "version": "3.9.12"
    }
  },
  "nbformat": 4,
  "nbformat_minor": 0
}