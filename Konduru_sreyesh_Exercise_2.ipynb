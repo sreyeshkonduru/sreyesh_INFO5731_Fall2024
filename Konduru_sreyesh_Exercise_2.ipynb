{
  "cells": [
    {
      "cell_type": "markdown",
      "metadata": {
        "id": "view-in-github",
        "colab_type": "text"
      },
      "source": [
        "<a href=\"https://colab.research.google.com/github/sreyeshkonduru/sreyesh_INFO5731_Fall2024/blob/main/Konduru_sreyesh_Exercise_2.ipynb\" target=\"_parent\"><img src=\"https://colab.research.google.com/assets/colab-badge.svg\" alt=\"Open In Colab\"/></a>"
      ]
    },
    {
      "cell_type": "markdown",
      "metadata": {
        "id": "DymRJbxDBCnf"
      },
      "source": [
        "# **INFO5731 In-class Exercise 2**\n",
        "\n",
        "The purpose of this exercise is to understand users' information needs, and then collect data from different sources for analysis by implementing web scraping using Python.\n",
        "\n",
        "**Expectations**:\n",
        "*   Students are expected to complete the exercise during lecture period to meet the active participation criteria of the course.\n",
        "*   Use the provided .*ipynb* document to write your code & respond to the questions. Avoid generating a new file.\n",
        "*   Write complete answers and run all the cells before submission.\n",
        "*   Make sure the submission is \"clean\"; *i.e.*, no unnecessary code cells.\n",
        "*   Once finished, allow shared rights from top right corner (*see Canvas for details*).\n",
        "\n",
        "**Total points**: 40\n",
        "\n",
        "**Deadline**: This in-class exercise is due at the end of the day tomorrow, at 11:59 PM.\n",
        "\n",
        "**Late submissions will have a penalty of 10% of the marks for each day of late submission. , and no requests will be answered. Manage your time accordingly.**\n"
      ]
    },
    {
      "cell_type": "markdown",
      "source": [
        "## Question 1 (10 Points)\n",
        "Describe an interesting research question (or practical question or something innovative) you have in mind, what kind of data should be collected to answer the question(s)? Specify the amount of data needed for analysis. Provide detailed steps for collecting and saving the data."
      ],
      "metadata": {
        "id": "FBKvD6O_TY6e"
      }
    },
    {
      "cell_type": "markdown",
      "source": [],
      "metadata": {
        "id": "5oNeL5pqsn0H"
      }
    },
    {
      "cell_type": "code",
      "source": [
        "# write your answer here\n",
        "My research question is about creating an analiysis by using the data of the students of their type of learning processes.\n",
        "By analyzing this data, you aim to determine which learning method is most effective, uncover patterns in student preferences,\n",
        "and provide valuable insights for optimizing learning experiences and outcomes.\n",
        "\n",
        "This includes different types of learning ways like learning from Videos,taking quizes and even reading written content such as articles\n",
        "which are some of the most commonly used practices for learning. Data for this research should include parameter such as\n",
        "Student ID(each student has a unique student ID),Types of learning process(video,quiz,articles),assessment scores,feedback(very useful, useful, not useful) etc.\n",
        "This research can significantly contribute to the field of educational psychology and instructional design,\n",
        "potentially leading to more personalized and effective learning experiences for students.\n",
        "\n",
        "To get valuable information, there should be atleast 1000 samples of data for this question.\n",
        "\n"
      ],
      "metadata": {
        "id": "YjgWtjVj9dW2"
      },
      "execution_count": null,
      "outputs": []
    },
    {
      "cell_type": "markdown",
      "source": [
        "## Question 2 (10 Points)\n",
        "Write Python code to collect a dataset of 1000 samples related to the question discussed in Question 1."
      ],
      "metadata": {
        "id": "E9RqrlwdTfvl"
      }
    },
    {
      "cell_type": "code",
      "source": [
        "import pandas as pd\n",
        "import random\n",
        "import uuid\n",
        "from datetime import datetime, timedelta\n",
        "\n",
        "num_students = 100\n",
        "num_interactions_per_student = 10\n",
        "\n",
        "content_types = ['video', 'quiz', 'article']\n",
        "feedback_options = ['very useful', 'useful', 'neutral', 'not useful']\n",
        "\n",
        "student_ids = []\n",
        "timestamps = []\n",
        "content_types_list = []\n",
        "assessment_scores = []\n",
        "engagement_hours = []\n",
        "content_adaptations = []\n",
        "feedback_responses = []\n",
        "\n",
        "def simulate_real_time_data(student_id):\n",
        "    content_type = random.choice(content_types)\n",
        "    score = random.uniform(50, 100)\n",
        "    engagement = random.uniform(0.5, 2)\n",
        "    adaptation = random.choice(['increased difficulty', 'simplified', 'no change'])\n",
        "    feedback = random.choice(feedback_options)\n",
        "    return content_type, score, engagement, adaptation, feedback\n",
        "\n",
        "for student in range(num_students):\n",
        "    student_id = str(uuid.uuid4())\n",
        "    for _ in range(num_interactions_per_student):\n",
        "        timestamp = (datetime.now() - timedelta(minutes=random.randint(1, 10080))).strftime('%Y-%m-%d %H:%M:%S')\n",
        "        content_type, score, engagement, adaptation, feedback = simulate_real_time_data(student_id)\n",
        "\n",
        "        student_ids.append(student_id)\n",
        "        timestamps.append(timestamp)\n",
        "        content_types_list.append(content_type)\n",
        "        assessment_scores.append(score)\n",
        "        engagement_hours.append(engagement)\n",
        "        content_adaptations.append(adaptation)\n",
        "        feedback_responses.append(feedback)\n",
        "\n",
        "data = pd.DataFrame({'Student_ID': student_ids,'Timestamp': timestamps,'Content_Type': content_types_list,'Assessment_Score': assessment_scores,'Engagement_Hours': engagement_hours,'Content_Adaptation': content_adaptations,'Feedback_Response': feedback_responses})\n",
        "\n",
        "data.to_csv('adaptive_learning_data_1000_samples.csv', index=False)\n",
        "print(data.head(10))\n"
      ],
      "metadata": {
        "colab": {
          "base_uri": "https://localhost:8080/"
        },
        "id": "knK1prLQXAN_",
        "outputId": "9ea5207f-9141-473b-f64c-c143ddb35090"
      },
      "execution_count": null,
      "outputs": [
        {
          "output_type": "stream",
          "name": "stdout",
          "text": [
            "                             Student_ID            Timestamp Content_Type  \\\n",
            "0  2af28e40-9d60-404e-bb3b-a4d37f8ec0e9  2024-09-14 22:28:24         quiz   \n",
            "1  2af28e40-9d60-404e-bb3b-a4d37f8ec0e9  2024-09-13 22:38:24        video   \n",
            "2  2af28e40-9d60-404e-bb3b-a4d37f8ec0e9  2024-09-13 06:25:24        video   \n",
            "3  2af28e40-9d60-404e-bb3b-a4d37f8ec0e9  2024-09-14 20:57:24        video   \n",
            "4  2af28e40-9d60-404e-bb3b-a4d37f8ec0e9  2024-09-09 16:54:24      article   \n",
            "5  2af28e40-9d60-404e-bb3b-a4d37f8ec0e9  2024-09-10 15:30:24        video   \n",
            "6  2af28e40-9d60-404e-bb3b-a4d37f8ec0e9  2024-09-15 17:48:24        video   \n",
            "7  2af28e40-9d60-404e-bb3b-a4d37f8ec0e9  2024-09-15 13:17:24         quiz   \n",
            "8  2af28e40-9d60-404e-bb3b-a4d37f8ec0e9  2024-09-13 04:45:24        video   \n",
            "9  2af28e40-9d60-404e-bb3b-a4d37f8ec0e9  2024-09-11 11:53:24         quiz   \n",
            "\n",
            "   Assessment_Score  Engagement_Hours    Content_Adaptation Feedback_Response  \n",
            "0         66.952597          1.265220            simplified            useful  \n",
            "1         58.302556          0.960653            simplified       very useful  \n",
            "2         93.842389          1.200561            simplified        not useful  \n",
            "3         85.806680          1.315959             no change            useful  \n",
            "4         82.722475          1.230178            simplified            useful  \n",
            "5         98.450112          1.074784            simplified       very useful  \n",
            "6         90.824174          1.277781             no change            useful  \n",
            "7         66.551905          1.430387            simplified        not useful  \n",
            "8         62.111781          1.935582  increased difficulty        not useful  \n",
            "9         51.626662          0.895270            simplified            useful  \n"
          ]
        }
      ]
    },
    {
      "cell_type": "markdown",
      "metadata": {
        "id": "03jb4GZsBkBS"
      },
      "source": [
        "## Question 3 (10 Points)\n",
        "Write Python code to collect 1000 articles from Google Scholar (https://scholar.google.com/), Microsoft Academic (https://academic.microsoft.com/home), or CiteSeerX (https://citeseerx.ist.psu.edu/index), or Semantic Scholar (https://www.semanticscholar.org/), or ACM Digital Libraries (https://dl.acm.org/) with the keyword \"XYZ\". The articles should be published in the last 10 years (2014-2024).\n",
        "\n",
        "The following information from the article needs to be collected:\n",
        "\n",
        "(1) Title of the article\n",
        "\n",
        "(2) Venue/journal/conference being published\n",
        "\n",
        "(3) Year\n",
        "\n",
        "(4) Authors\n",
        "\n",
        "(5) Abstract"
      ]
    },
    {
      "cell_type": "code",
      "source": [
        "import requests\n",
        "from bs4 import BeautifulSoup\n",
        "import pandas as pd\n",
        "\n",
        "def fetch_articles(search_term, num_results):\n",
        "    scholar_url = \"https://scholar.google.com/scholar?hl=en&as_sdt=0%2C44&q=XYZ&btnG=\"\n",
        "    search_params = {\n",
        "        'hl': 'en',\n",
        "        'q': search_term,\n",
        "        'as_ylo': '2014',\n",
        "        'as_yhi': '2024'\n",
        "    }\n",
        "\n",
        "    webpage = requests.get(scholar_url, params=search_params)\n",
        "    parsed_page = BeautifulSoup(webpage.content, 'html.parser')\n",
        "\n",
        "    research_papers = []\n",
        "\n",
        "    for paper in parsed_page.find_all('div', class_='gs_ri')[:num_results]:\n",
        "        paper_title_tag = paper.find('h3', class_='gs_rt')\n",
        "        paper_authors_tag = paper.find('div', class_='gs_a')\n",
        "        paper_abstract_tag = paper.find('div', class_='gs_rs')\n",
        "\n",
        "        paper_title = paper_title_tag.text if paper_title_tag else \"N/A\"\n",
        "        journal_name = paper_authors_tag.text.split('-')[1].strip() if paper_authors_tag and len(paper_authors_tag.text.split('-')) > 1 else \"N/A\"\n",
        "        publication_year = paper_authors_tag.text.split()[-1] if paper_authors_tag else \"N/A\"\n",
        "        author_names = ', '.join(paper_authors_tag.text.split('-')[0].split(', ')) if paper_authors_tag else \"N/A\"\n",
        "        paper_abstract = paper_abstract_tag.text if paper_abstract_tag else \"N/A\"\n",
        "\n",
        "        research_papers.append({\n",
        "            'Title': paper_title,\n",
        "            'Journal': journal_name,\n",
        "            'Year': publication_year,\n",
        "            'Authors': author_names,\n",
        "            'Abstract': paper_abstract\n",
        "        })\n",
        "\n",
        "    return research_papers\n",
        "\n",
        "search_query = \"natural language processing\"\n",
        "fetched_articles = fetch_articles(search_query, 1000)\n",
        "\n",
        "articles_df = pd.DataFrame(fetched_articles)\n",
        "articles_df.to_csv('research_articles.csv', index=False)\n",
        "\n",
        "print(articles_df.head(15))\n"
      ],
      "metadata": {
        "id": "-8VB8X6L-T9p",
        "colab": {
          "base_uri": "https://localhost:8080/"
        },
        "outputId": "bb112717-62de-4f62-e121-9e5c973a46c0"
      },
      "execution_count": null,
      "outputs": [
        {
          "output_type": "stream",
          "name": "stdout",
          "text": [
            "                                               Title  \\\n",
            "0                        Natural language processing   \n",
            "1  [HTML][HTML] Natural language processing: stat...   \n",
            "2            Advances in natural language processing   \n",
            "3  A primer on neural network models for natural ...   \n",
            "4  [PDF][PDF] The Stanford CoreNLP natural langua...   \n",
            "5  Transformers: State-of-the-art natural languag...   \n",
            "6  [BOOK][B] Neural network methods in natural la...   \n",
            "7  Allennlp: A deep semantic natural language pro...   \n",
            "8  Stanza: A Python natural language processing t...   \n",
            "9  Jumping NLP curves: A review of natural langua...   \n",
            "\n",
            "                                             Journal                 Year  \\\n",
            "0      Fundamentals of artificial intelligence, 2020             Springer   \n",
            "1            Multimedia tools and applications, 2023             Springer   \n",
            "2                                      Science, 2015          science.org   \n",
            "3  Journal of Artificial Intelligence Research, 2016             jair.org   \n",
            "4                        Proceedings of 52nd …, 2014     aclanthology.org   \n",
            "5                      … language processing …, 2020     aclanthology.org   \n",
            "6                                               2017     books.google.com   \n",
            "7                       arXiv preprint arXiv …, 2018            arxiv.org   \n",
            "8                       arXiv preprint arXiv …, 2020            arxiv.org   \n",
            "9            IEEE Computational intelligence …, 2014  ieeexplore.ieee.org   \n",
            "\n",
            "                                     Authors  \\\n",
            "0                KR Chowdhary, KR Chowdhary    \n",
            "1     D Khurana, A Koli, K Khatter, S Singh    \n",
            "2                  J Hirschberg, CD Manning    \n",
            "3                                Y Goldberg    \n",
            "4          CD Manning, M Surdeanu, J Bauer…    \n",
            "5      T Wolf, L Debut, V Sanh, J Chaumond…    \n",
            "6                                Y Goldberg    \n",
            "7  M Gardner, J Grus, M Neumann, O Tafjord…    \n",
            "8         P Qi, Y Zhang, Y Zhang, J Bolton…    \n",
            "9                        E Cambria, B White    \n",
            "\n",
            "                                            Abstract  \n",
            "0  … Python is also available with an extensive s...  \n",
            "1  … in machine specific language, Natural Langua...  \n",
            "2  … Natural language processing employs computat...  \n",
            "3  … More recently, neural network models started...  \n",
            "4  We describe the design and use of the Stanford...  \n",
            "5  … Recent progress in natural language processi...  \n",
            "6  … The series consists of 50- to 150-page monog...  \n",
            "7  This paper describes AllenNLP, a platform for ...  \n",
            "8  … open-source Python natural language processi...  \n",
            "9  … a deep understanding of natural language by ...  \n"
          ]
        }
      ]
    },
    {
      "cell_type": "markdown",
      "metadata": {
        "id": "jJDe71iLB616"
      },
      "source": [
        "## Question 4A (10 Points)\n",
        "Develop Python code to collect data from social media platforms like Reddit, Instagram, Twitter (formerly known as X), Facebook, or any other. Use hashtags, keywords, usernames, or user IDs to gather the data.\n",
        "\n",
        "\n",
        "\n",
        "Ensure that the collected data has more than four columns.\n"
      ]
    },
    {
      "cell_type": "markdown",
      "metadata": {
        "id": "55W9AMdXCSpV"
      },
      "source": [
        "## Question 4B (10 Points)\n",
        "If you encounter challenges with Question-4 web scraping using Python, employ any online tools such as ParseHub or Octoparse for data extraction. Introduce the selected tool, outline the steps for web scraping, and showcase the final output in formats like CSV or Excel.\n",
        "\n",
        "\n",
        "\n",
        "Upload a document (Word or PDF File) in any shared storage (preferably UNT OneDrive) and add the publicly accessible link in the below code cell.\n",
        "\n",
        "Please only choose one option for question 4. If you do both options, we will grade only the first one"
      ]
    },
    {
      "cell_type": "code",
      "source": [
        "# write your answer here\n",
        "I have used ParseHub for this question and used reddit deals page to extract data\n",
        "\n",
        "steps for webscrapping through parseHub:\n",
        "\n",
        "1.First download the parseHub app from their website and complete the setup to install Parsehub in computer.\n",
        "\n",
        "2.Then, open ParseHub and click on \"New Project\".\n",
        "\n",
        "3.Paste the URL of the website you want to scrape. In this case, it is https://old.reddit.com/r/deals/\n",
        "\n",
        "4.Then, using select feature, click on the element that we want to extract.\n",
        "\n",
        "5.To extract more elements use relative select and select the elements.\n",
        "\n",
        "6.After selecting, extract data and then select run to get the data.\n",
        "\n",
        "7.Then select the type of file to download such as CSV file.\n",
        "\n",
        "Here is the File:\n",
        "https://myunt-my.sharepoint.com/:b:/g/personal/sreyeshvarmakonduru_my_unt_edu/EeAIcn7eFHpCgJauAO0bpBgBzHknEBaG-T2eO_wqGR-d8w?e=mOI7i3"
      ],
      "metadata": {
        "id": "BiDGvgEWFGvJ"
      },
      "execution_count": null,
      "outputs": []
    },
    {
      "cell_type": "markdown",
      "source": [
        "# Mandatory Question"
      ],
      "metadata": {
        "id": "sZOhks1dXWEe"
      }
    },
    {
      "cell_type": "markdown",
      "source": [
        "**Important: Reflective Feedback on Web Scraping and Data Collection**\n",
        "\n",
        "\n",
        "\n",
        "Please share your thoughts and feedback on the web scraping and data collection exercises you have completed in this assignment. Consider the following points in your response:\n",
        "\n",
        "\n",
        "\n",
        "Learning Experience: Describe your overall learning experience in working on web scraping tasks. What were the key concepts or techniques you found most beneficial in understanding the process of extracting data from various online sources?\n",
        "\n",
        "\n",
        "\n",
        "Challenges Encountered: Were there specific difficulties in collecting data from certain websites, and how did you overcome them? If you opted for the non-coding option, share your experience with the chosen tool.\n",
        "\n",
        "\n",
        "\n",
        "Relevance to Your Field of Study: How might the ability to gather and analyze data from online sources enhance your work or research?\n",
        "\n",
        "**(no grading of your submission if this question is left unanswered)**"
      ],
      "metadata": {
        "id": "eqmHVEwaWhbV"
      }
    },
    {
      "cell_type": "code",
      "source": [
        "'''\n",
        "I have listened to week 4 class about webscrapping. But the call activity that is given to us does not seem to be possible. I was getting so many errors and most of the websites\n",
        "are not giving access to scrape the data.After so many tries using different kinds of websites(even after trying old versions of websites),I finally got the outputs.\n",
        "'''"
      ],
      "metadata": {
        "id": "akAVJn9YBTQT"
      },
      "execution_count": null,
      "outputs": []
    }
  ],
  "metadata": {
    "colab": {
      "provenance": [],
      "collapsed_sections": [
        "55W9AMdXCSpV"
      ],
      "toc_visible": true,
      "include_colab_link": true
    },
    "kernelspec": {
      "display_name": "Python 3 (ipykernel)",
      "language": "python",
      "name": "python3"
    },
    "language_info": {
      "codemirror_mode": {
        "name": "ipython",
        "version": 3
      },
      "file_extension": ".py",
      "mimetype": "text/x-python",
      "name": "python",
      "nbconvert_exporter": "python",
      "pygments_lexer": "ipython3",
      "version": "3.9.12"
    }
  },
  "nbformat": 4,
  "nbformat_minor": 0
}